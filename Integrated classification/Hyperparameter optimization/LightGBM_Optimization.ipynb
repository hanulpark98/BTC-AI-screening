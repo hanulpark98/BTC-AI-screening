{
 "cells": [
  {
   "cell_type": "code",
   "execution_count": 1,
   "id": "ce89b7af-374a-4212-997a-13bcbb6bb81a",
   "metadata": {},
   "outputs": [],
   "source": [
    "import numpy as np\n",
    "import pandas as pd\n",
    "import lightgbm as lgb\n",
    "from sklearn.preprocessing import LabelEncoder\n",
    "from sklearn.model_selection import train_test_split , cross_val_score\n",
    "from sklearn.metrics import make_scorer, roc_auc_score, accuracy_score, f1_score, log_loss, recall_score\n",
    "from tqdm import tqdm\n",
    "import logging\n",
    "import optuna\n",
    "from optuna.samplers import TPESampler\n",
    "from optuna.pruners import MedianPruner\n",
    "from optuna.logging import get_logger"
   ]
  },
  {
   "cell_type": "markdown",
   "id": "f2d563b0-b848-4192-80b0-6ce08e67bc3e",
   "metadata": {},
   "source": [
    "Log data preperation"
   ]
  },
  {
   "cell_type": "code",
   "execution_count": 2,
   "id": "4b8997e5-fad5-4cdb-9b4c-19d09d5cd9cc",
   "metadata": {},
   "outputs": [],
   "source": [
    "# Set up logging configuration\n",
    "logging.basicConfig(level=logging.INFO, format='%(asctime)s - %(levelname)s - %(message)s')\n",
    "\n",
    "# Create a custom file handler\n",
    "file_handler = logging.FileHandler('optuna_logs_XGBoost.log')\n",
    "file_handler.setLevel(logging.INFO)\n",
    "file_handler.setFormatter(logging.Formatter('%(asctime)s - %(levelname)s - %(message)s'))\n",
    "\n",
    "# Add file handler to Optuna's logger\n",
    "logger = optuna.logging.get_logger('optuna')\n",
    "logger.addHandler(file_handler)"
   ]
  },
  {
   "cell_type": "markdown",
   "id": "6283b5ac-357f-45fc-8fc5-4d1b4321022e",
   "metadata": {},
   "source": [
    "Data preperation"
   ]
  },
  {
   "cell_type": "code",
   "execution_count": 3,
   "id": "2e537faf-925b-4beb-98fd-e67025a867aa",
   "metadata": {},
   "outputs": [],
   "source": [
    "# Load the dataset using Pandas\n",
    "#df = pd.read_excel('../step1 (Datasets)/PHR_1.0.3b_LabResultsMVRemoved.xlsx')\n",
    "#df = pd.read_excel('../step1 (Datasets)/PHR_1.0.3b_LabResultsMVRemoved_MICEimputed.xlsx')\n",
    "#df = pd.read_excel('../step1 (Datasets)/PHR_1.0.2b_MICEimputed.xlsx')\n",
    "df = pd.read_excel('../../step1 (Datasets)/PHR_1.0.3b_LabResultsMVRemoved_refined_MedianImputation.xlsx')\n",
    "\n",
    "# Specify the target column name\n",
    "target_name = 'Cancer Label'\n",
    "\n",
    "# Separate features and target\n",
    "X = df.drop(columns=[target_name])\n",
    "y = df[target_name]\n",
    "\n",
    "# Encode categorical variables if needed\n",
    "for column in X.select_dtypes(include=['object']).columns:\n",
    "    le = LabelEncoder()\n",
    "    X[column] = le.fit_transform(X[column])"
   ]
  },
  {
   "cell_type": "markdown",
   "id": "2066ce96-546b-4d7e-b16b-e1205ea4a82a",
   "metadata": {},
   "source": [
    "Ultiparameters"
   ]
  },
  {
   "cell_type": "code",
   "execution_count": 4,
   "id": "caf565c2-1ad0-4ce2-ac7a-507393721c7d",
   "metadata": {},
   "outputs": [],
   "source": [
    "# Number of random splits for HPO\n",
    "HPO_splits = 10\n",
    "\n",
    "# Number of random splits for evaluation of HPO-adjusted model\n",
    "Model_evaluation_splits = 30"
   ]
  },
  {
   "cell_type": "markdown",
   "id": "d6140deb-1e51-48d1-a7b1-87fed17778ed",
   "metadata": {},
   "source": [
    "Optuna HPO & evaluation"
   ]
  },
  {
   "cell_type": "code",
   "execution_count": null,
   "id": "c3c15bed-cb1f-4f28-8d58-e20ffb9c3aa8",
   "metadata": {
    "scrolled": true
   },
   "outputs": [],
   "source": [
    "# Function to optimize hyperparameters using Optuna\n",
    "def objective(trial, state):\n",
    "    param_grid = {\n",
    "        'gpu_id': 1,  # Using GPU with device ID 2\n",
    "        'boosting_type': trial.suggest_categorical('boosting_type', ['gbdt', 'dart', 'goss', 'rf']),  # LightGBM's boosting types\n",
    "        'max_depth': trial.suggest_int('max_depth', 3, 10),  # Depth of trees\n",
    "        'learning_rate': trial.suggest_float('learning_rate', 0.008, 0.2),  # Learning rate\n",
    "        'n_estimators': trial.suggest_int('n_estimators', 50, 300),  # Number of trees\n",
    "        'min_child_weight': trial.suggest_int('min_child_weight', 1, 10),  # Minimum child weight for splits\n",
    "        'subsample': trial.suggest_float('subsample', 0.5, 1.0),  # Fraction of samples for building each tree\n",
    "        'colsample_bytree': trial.suggest_float('colsample_bytree', 0.3, 1.0),  # Fraction of features for each tree\n",
    "        'lambda_l1': trial.suggest_float('lambda_l1', 1e-3, 1.0, log=True),  # L1 regularization\n",
    "        'lambda_l2': trial.suggest_float('lambda_l2', 1e-3, 1.0, log=True),  # L2 regularization\n",
    "        'max_bin': trial.suggest_int('max_bin', 100, 500),  # Max number of bins for feature discretization\n",
    "        'objective': 'binary',  # Binary classification task\n",
    "        'metric': 'binary_logloss',  # Loss metric for binary classification\n",
    "        'verbose': -1 # Suppress logging\n",
    "    }\n",
    "\n",
    "    # Create train/test split\n",
    "    X_train, X_test, y_train, y_test = train_test_split(X, y, test_size=0.2, random_state=state)\n",
    "    \n",
    "    # Create the LightGBM classifier & train & predict\n",
    "    model = lgb.LGBMClassifier(**param_grid)\n",
    "    \n",
    "    # Use cross-validation to evaluate model with recall\n",
    "    recall_scorer = make_scorer(recall_score)  # Recall (sensitivity) scorer\n",
    "    recall = cross_val_score(model, X_train, y_train, cv=5, scoring=recall_scorer).mean()\n",
    "\n",
    "    return recall\n",
    "\n",
    "\n",
    "model_overall_best_Hparams_model_performance_metrics = []\n",
    "model_overall_best_Hparams_model_recall = 0\n",
    "model_overall_best_Hparams_list = []\n",
    "model_overall_best_Hparams_splitIndex = 0\n",
    "\n",
    "# Main evaluation loop for finding best Hp and overall performance\n",
    "for h_split in tqdm(range(HPO_splits), desc=\"Hyperparameter Optimization Progress\"):\n",
    "    print(f\"Processing split state: {h_split}\")\n",
    "    \n",
    "    # Optimize hyperparameters for the split (state)\n",
    "    study = optuna.create_study(direction='maximize', sampler=TPESampler(), pruner=MedianPruner())\n",
    "    study.optimize(lambda trial: objective(trial, h_split), n_trials=100)\n",
    "\n",
    "    # Get the best hyperparameters for the split in 100 trials\n",
    "    best_params = study.best_params\n",
    "    print(f\"Best parameters for split state {h_split}: {best_params}\")\n",
    "\n",
    "    all_metrics = []\n",
    "    \n",
    "    # Evaluate the split-based optimized hyperparameters \n",
    "    for e_split in tqdm(range(Model_evaluation_splits), desc=\"Evaluation Progress\", leave=False):\n",
    "        \n",
    "        X_train, X_test, y_train, y_test = train_test_split(X, y, test_size=0.2, random_state=e_split)\n",
    "        \n",
    "        # Create the LightGBM classifier & train & predict\n",
    "        model = lgb.LGBMClassifier(**best_params)\n",
    "        model.fit(X_train, y_train)\n",
    "        y_pred_test = model.predict_proba(X_test)[:, 1]\n",
    "        y_pred_bin_test = model.predict(X_test)\n",
    "        \n",
    "        # Evaluate on the test set\n",
    "        test_loss = log_loss(y_test, y_pred_test)\n",
    "        accuracy = accuracy_score(y_test, model.predict(X_test))\n",
    "        auc_roc = roc_auc_score(y_test, y_pred_test)\n",
    "        f1 = f1_score(y_test, model.predict(X_test))\n",
    "        sensitivity = recall_score(y_test, y_pred_bin_test)  \n",
    "        \n",
    "        all_metrics.append((test_loss, accuracy, sensitivity, auc_roc, f1))\n",
    "        \n",
    "    # Calculate average metrics\n",
    "    all_metrics = np.array(all_metrics)\n",
    "    avg_metrics = np.mean(all_metrics, axis=0)\n",
    "\n",
    "    if avg_metrics[2] > model_overall_best_Hparams_model_recall:\n",
    "        model_overall_best_Hparams_model_auc_roc = avg_metrics[2]\n",
    "        model_overall_best_Hparams_list = best_params\n",
    "        model_overall_best_Hparams_model_performance_metrics = avg_metrics\n",
    "        model_overall_best_Hparams_splitIndex = h_split\n",
    "\n"
   ]
  },
  {
   "cell_type": "code",
   "execution_count": 6,
   "id": "d6dff404-d2c2-4bba-821c-e82a5823c697",
   "metadata": {},
   "outputs": [
    {
     "name": "stdout",
     "output_type": "stream",
     "text": [
      "Best Hp is from split: 9\n",
      "Best Hp are: {'boosting_type': 'gbdt', 'max_depth': 4, 'learning_rate': 0.11874834409580293, 'n_estimators': 262, 'min_child_weight': 10, 'subsample': 0.7692529288310478, 'colsample_bytree': 0.7086822061982037, 'lambda_l1': 0.7504480117007168, 'lambda_l2': 0.25455736309470217, 'max_bin': 306}\n",
      "Best Hp tuned model performance on 30 splits: [0.39617785 0.82987141 0.73518969 0.90047873 0.76332499]\n"
     ]
    }
   ],
   "source": [
    "print(f\"Best Hp is from split: {model_overall_best_Hparams_splitIndex}\")\n",
    "print(f\"Best Hp are: {model_overall_best_Hparams_list}\")\n",
    "print(f\"Best Hp tuned model performance on {Model_evaluation_splits} splits: {model_overall_best_Hparams_model_performance_metrics}\")\n"
   ]
  }
 ],
 "metadata": {
  "kernelspec": {
   "display_name": "Python 3 (ipykernel)",
   "language": "python",
   "name": "python3"
  },
  "language_info": {
   "codemirror_mode": {
    "name": "ipython",
    "version": 3
   },
   "file_extension": ".py",
   "mimetype": "text/x-python",
   "name": "python",
   "nbconvert_exporter": "python",
   "pygments_lexer": "ipython3",
   "version": "3.10.11"
  }
 },
 "nbformat": 4,
 "nbformat_minor": 5
}
