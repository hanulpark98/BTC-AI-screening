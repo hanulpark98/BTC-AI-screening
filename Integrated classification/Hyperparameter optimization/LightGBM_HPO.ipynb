{
 "cells": [
  {
   "cell_type": "markdown",
   "id": "bcca1bcd-7fe3-49c0-bea6-5bd88fe1bfc8",
   "metadata": {},
   "source": [
    "Package Import"
   ]
  },
  {
   "cell_type": "code",
   "execution_count": 16,
   "id": "58fd90c2-549f-44bf-9b6c-9fcea357a08b",
   "metadata": {},
   "outputs": [],
   "source": [
    "import numpy as np\n",
    "import pandas as pd\n",
    "import lightgbm as lgb\n",
    "from sklearn.preprocessing import LabelEncoder\n",
    "from sklearn.model_selection import train_test_split , cross_val_score\n",
    "from sklearn.metrics import make_scorer, roc_auc_score, accuracy_score, f1_score, log_loss, recall_score\n",
    "from tqdm import tqdm\n",
    "import optuna\n",
    "from optuna.samplers import TPESampler\n",
    "from optuna.pruners import MedianPruner"
   ]
  },
  {
   "cell_type": "markdown",
   "id": "86c63857-8b6a-4d67-8ed3-09dffd5d8fca",
   "metadata": {},
   "source": [
    "User Configuration"
   ]
  },
  {
   "cell_type": "code",
   "execution_count": 23,
   "id": "56331a9f-865c-4920-9ca2-74f0f7136189",
   "metadata": {},
   "outputs": [],
   "source": [
    "# Specify your datset location and label column name\n",
    "dataset = \"Your dataset location\"\n",
    "label_column = 'Your label column name'\n",
    "\n",
    "# Specify the number of random splits for HPO\n",
    "HPO_splits = 10\n",
    "# Specify the number of random splits for evaluation of HPO-adjusted model\n",
    "Model_evaluation_splits = 30\n",
    "\n",
    "# Dynamic ranges for LightGBM hyperparameters\n",
    "boosting_type_options = ['gbdt', 'dart', 'goss', 'rf']\n",
    "max_depth_range = (3, 10)\n",
    "learning_rate_range = (0.008, 0.2)\n",
    "n_estimators_range = (50, 300)\n",
    "min_child_weight_range = (1, 10)\n",
    "subsample_range = (0.5, 1.0)\n",
    "colsample_bytree_range = (0.3, 1.0)\n",
    "lambda_l1_range = (1e-3, 1.0)\n",
    "lambda_l2_range = (1e-3, 1.0)\n",
    "max_bin_range = (100, 500)\n",
    "metric = 'binary_logloss'\n",
    "verbose = -1\n",
    "gpu_id = 1"
   ]
  },
  {
   "cell_type": "markdown",
   "id": "56442e83-1767-48a0-8a1b-52297e38b0c3",
   "metadata": {},
   "source": [
    "Data Preperation"
   ]
  },
  {
   "cell_type": "code",
   "execution_count": 19,
   "id": "d04e7cbe-e531-48ad-85f6-f2fe3e079c37",
   "metadata": {},
   "outputs": [],
   "source": [
    "# Load the dataset using Pandas\n",
    "df = pd.read_excel(dataset)\n",
    "\n",
    "# Separate features and target\n",
    "X = df.drop(columns=[label_column])\n",
    "y = df[label_column]\n",
    "\n",
    "# Encode categorical variables if needed\n",
    "for column in X.select_dtypes(include=['object']).columns:\n",
    "    le = LabelEncoder()\n",
    "    X[column] = le.fit_transform(X[column])"
   ]
  },
  {
   "cell_type": "markdown",
   "id": "19e283c1-8c09-43e4-9db0-c180ccda65c4",
   "metadata": {},
   "source": [
    "Optuna HPO initiation"
   ]
  },
  {
   "cell_type": "code",
   "execution_count": null,
   "id": "dffbba48-452d-4b5e-9b3c-9d12ce8f8d44",
   "metadata": {
    "scrolled": true
   },
   "outputs": [],
   "source": [
    "# Function to optimize hyperparameters using Optuna\n",
    "def objective(trial, state):\n",
    "    \n",
    "    param_grid = {\n",
    "        'gpu_id': gpu_id,  # Specify GPU ID\n",
    "        'boosting_type': trial.suggest_categorical('boosting_type', boosting_type_options),  # LightGBM's boosting types\n",
    "        'max_depth': trial.suggest_int('max_depth', *max_depth_range),  # Use unpacked range\n",
    "        'learning_rate': trial.suggest_float('learning_rate', *learning_rate_range),\n",
    "        'n_estimators': trial.suggest_int('n_estimators', *n_estimators_range),\n",
    "        'min_child_weight': trial.suggest_int('min_child_weight', *min_child_weight_range),\n",
    "        'subsample': trial.suggest_float('subsample', *subsample_range),\n",
    "        'colsample_bytree': trial.suggest_float('colsample_bytree', *colsample_bytree_range),\n",
    "        'lambda_l1': trial.suggest_float('lambda_l1', lambda_l1_range[0], lambda_l1_range[1], log=True),\n",
    "        'lambda_l2': trial.suggest_float('lambda_l2', lambda_l2_range[0], lambda_l2_range[1], log=True),\n",
    "        'max_bin': trial.suggest_int('max_bin', *max_bin_range),\n",
    "        'objective': 'binary',\n",
    "        'metric': metric,\n",
    "        'verbose': verbose  # Suppress logging\n",
    "    }\n",
    "\n",
    "    # Create train/test split\n",
    "    X_train, X_test, y_train, y_test = train_test_split(X, y, test_size=0.2, random_state=state)\n",
    "    \n",
    "    model = lgb.LGBMClassifier(**param_grid)\n",
    "    \n",
    "    # Use cross-validation to evaluate model with recall\n",
    "    recall_scorer = make_scorer(recall_score)  # Recall (sensitivity) scorer\n",
    "    recall = cross_val_score(model, X_train, y_train, cv=5, scoring=recall_scorer).mean()\n",
    "\n",
    "    return recall\n",
    "\n",
    "\n",
    "model_overall_best_Hparams_model_performance_metrics = []\n",
    "model_overall_best_Hparams_model_sensitivity = 0\n",
    "model_overall_best_Hparams_list = []\n",
    "model_overall_best_Hparams_splitIndex = 0\n",
    "\n",
    "# Specify metric names for printing\n",
    "metric_labels = ['Log Loss', 'Accuracy', 'Sensitivity (Recall)', 'AUC-ROC', 'F1-Score']\n",
    "\n",
    "# Main evaluation loop for finding best Hp and overall performance\n",
    "for h_split in tqdm(range(HPO_splits), desc=\"Hyperparameter Optimization Progress\"):\n",
    "    print(f\"Processing split state: {h_split}\")\n",
    "    \n",
    "    # Optimize hyperparameters for the split (state)\n",
    "    study = optuna.create_study(direction='maximize', sampler=TPESampler(), pruner=MedianPruner())\n",
    "    study.optimize(lambda trial: objective(trial, h_split), n_trials=100)\n",
    "\n",
    "    # Get the best hyperparameters for the split in 100 trials\n",
    "    best_params = study.best_params\n",
    "    print(f\"Best parameters for split state {h_split}: {best_params}\")\n",
    "\n",
    "    all_metrics = []\n",
    "    \n",
    "    # Evaluate the split-based optimized hyperparameters \n",
    "    for e_split in tqdm(range(Model_evaluation_splits), desc=\"Evaluation Progress\", leave=False):\n",
    "        \n",
    "        X_train, X_test, y_train, y_test = train_test_split(X, y, test_size=0.2, random_state=e_split)\n",
    "        \n",
    "        model = lgb.LGBMClassifier(**best_params)\n",
    "        model.fit(X_train, y_train)\n",
    "        y_pred_test = model.predict_proba(X_test)[:, 1]\n",
    "        y_pred_bin_test = model.predict(X_test)\n",
    "        \n",
    "        # Evaluate on the test set\n",
    "        test_loss = log_loss(y_test, y_pred_test)\n",
    "        accuracy = accuracy_score(y_test, model.predict(X_test))\n",
    "        auc_roc = roc_auc_score(y_test, y_pred_test)\n",
    "        f1 = f1_score(y_test, model.predict(X_test))\n",
    "        sensitivity = recall_score(y_test, y_pred_bin_test) \n",
    "        \n",
    "        all_metrics.append((test_loss, accuracy, sensitivity, auc_roc, f1))\n",
    "        \n",
    "    # Calculate average metrics\n",
    "    all_metrics = np.array(all_metrics)\n",
    "    avg_metrics = np.mean(all_metrics, axis=0)\n",
    "\n",
    "    if avg_metrics[2] > model_overall_best_Hparams_model_sensitivity:\n",
    "        model_overall_best_Hparams_model_sensitivity = avg_metrics[2]\n",
    "        model_overall_best_Hparams_list = best_params\n",
    "        model_overall_best_Hparams_model_performance_metrics = avg_metrics\n",
    "        model_overall_best_Hparams_splitIndex = h_split"
   ]
  },
  {
   "cell_type": "markdown",
   "id": "370deceb-16aa-49a2-a196-bf05d1e0576b",
   "metadata": {},
   "source": [
    "Result of HPO"
   ]
  },
  {
   "cell_type": "code",
   "execution_count": null,
   "id": "c9a05765-19b6-4ed2-88ad-6fe483a582ce",
   "metadata": {},
   "outputs": [],
   "source": [
    "print(\"============================== LightGBM HPO results ==============================\")\n",
    "print(f\"Best Hp is from split: {model_overall_best_Hparams_splitIndex}\")\n",
    "print(f\"Best Hp are: {model_overall_best_Hparams_list}\")\n",
    "print(\"\\nBest HP Tuned Model Performance:\")\n",
    "for label, value in zip(metric_labels, model_overall_best_Hparams_model_performance_metrics):\n",
    "    print(f\"{label}: {value:.4f}\")"
   ]
  }
 ],
 "metadata": {
  "kernelspec": {
   "display_name": "Python 3 (ipykernel)",
   "language": "python",
   "name": "python3"
  },
  "language_info": {
   "codemirror_mode": {
    "name": "ipython",
    "version": 3
   },
   "file_extension": ".py",
   "mimetype": "text/x-python",
   "name": "python",
   "nbconvert_exporter": "python",
   "pygments_lexer": "ipython3",
   "version": "3.10.11"
  }
 },
 "nbformat": 4,
 "nbformat_minor": 5
}
